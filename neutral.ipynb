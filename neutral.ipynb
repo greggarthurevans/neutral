{
 "cells": [
  {
   "cell_type": "markdown",
   "metadata": {},
   "source": [
    "blank window input with options sring above (\"S,R,O,More,A)\n",
    "if S R or O the program\n",
    "    a promt displays confirming input\n",
    " lookup(frame)\n",
    " 1   looks it up in the lex\n",
    "    if more than one\n",
    "        it makes a guess frame for one of them (the top default)\n",
    "        and a rest lex frame out of the rest of the found rows.\n",
    " 5   if just one it choose that one\n",
    " \n",
    "    If none the computer looks it up in the synonyms colums of lex to see if existing word is better. \n",
    "        if word is found as syn \n",
    "             if more than one\n",
    "        it makes a guess frame for one of them (the top default)\n",
    "        and a rest lex frame out of the rest of the found rows.\n",
    "        if just one it choose that one\n",
    "    If not found as a synonym \n",
    "        repeat 1 through 5 using thes frame instead of lex frame\n",
    "    list each paired with a number list the guessed word and its synonyms. Followed by examples from  from knowl frame \n",
    "     nt the options string\n",
    "    if the user accepts the guess \n",
    "    \n",
    "    \n",
    "    "
   ]
  },
  {
   "cell_type": "code",
   "execution_count": 12,
   "metadata": {},
   "outputs": [
    {
     "ename": "ModuleNotFoundError",
     "evalue": "No module named 'n_tools'",
     "output_type": "error",
     "traceback": [
      "\u001b[0;31m---------------------------------------------------------------------------\u001b[0m",
      "\u001b[0;31mModuleNotFoundError\u001b[0m                       Traceback (most recent call last)",
      "\u001b[0;32m<ipython-input-12-84971966a4d0>\u001b[0m in \u001b[0;36m<module>\u001b[0;34m\u001b[0m\n\u001b[0;32m----> 1\u001b[0;31m \u001b[0;32mfrom\u001b[0m \u001b[0mn_tools\u001b[0m \u001b[0;32mimport\u001b[0m \u001b[0;34m*\u001b[0m\u001b[0;34m\u001b[0m\u001b[0;34m\u001b[0m\u001b[0m\n\u001b[0m\u001b[1;32m      2\u001b[0m \u001b[0;32mimport\u001b[0m \u001b[0mn_tools\u001b[0m\u001b[0;34m\u001b[0m\u001b[0;34m\u001b[0m\u001b[0m\n\u001b[1;32m      3\u001b[0m \u001b[0;32mimport\u001b[0m \u001b[0minspect\u001b[0m\u001b[0;34m\u001b[0m\u001b[0;34m\u001b[0m\u001b[0m\n\u001b[1;32m      4\u001b[0m \u001b[0;32mimport\u001b[0m \u001b[0mpandas\u001b[0m \u001b[0;32mas\u001b[0m \u001b[0mpd\u001b[0m\u001b[0;34m\u001b[0m\u001b[0;34m\u001b[0m\u001b[0m\n",
      "\u001b[0;31mModuleNotFoundError\u001b[0m: No module named 'n_tools'"
     ]
    }
   ],
   "source": [
    "from n_tools import *\n",
    "import n_tools \n",
    "import inspect\n",
    "import pandas as pd"
   ]
  },
  {
   "cell_type": "code",
   "execution_count": 2,
   "metadata": {},
   "outputs": [],
   "source": [
    "#for column in df.columns[2:]:  (iterate through columns)"
   ]
  },
  {
   "cell_type": "code",
   "execution_count": 3,
   "metadata": {},
   "outputs": [],
   "source": [
    "thesf = pd.read_csv('thesf.csv')"
   ]
  },
  {
   "cell_type": "code",
   "execution_count": 4,
   "metadata": {},
   "outputs": [],
   "source": [
    "lexf = pd.read_csv('lexf.csv')"
   ]
  },
  {
   "cell_type": "code",
   "execution_count": 5,
   "metadata": {},
   "outputs": [],
   "source": [
    "knowlf = pd.read_csv('knowlf.csv')"
   ]
  },
  {
   "cell_type": "code",
   "execution_count": 6,
   "metadata": {},
   "outputs": [],
   "source": [
    "opt_string = (' O , R, S ')"
   ]
  },
  {
   "cell_type": "code",
   "execution_count": 7,
   "metadata": {},
   "outputs": [],
   "source": [
    "#frame.insert(location, column_name, list_of_values)\n"
   ]
  },
  {
   "cell_type": "code",
   "execution_count": 8,
   "metadata": {},
   "outputs": [
    {
     "ename": "SyntaxError",
     "evalue": "invalid syntax (<ipython-input-8-a56877ea2210>, line 34)",
     "output_type": "error",
     "traceback": [
      "\u001b[0;36m  File \u001b[0;32m\"<ipython-input-8-a56877ea2210>\"\u001b[0;36m, line \u001b[0;32m34\u001b[0m\n\u001b[0;31m    options_d = options_d_template\u001b[0m\n\u001b[0m    ^\u001b[0m\n\u001b[0;31mSyntaxError\u001b[0m\u001b[0;31m:\u001b[0m invalid syntax\n"
     ]
    }
   ],
   "source": [
    "def get_lexf_guess(word,indexer):\n",
    "    options_d_template = {'index': '','status': '', 'knowl': '', 'lexf_suggest': '', 'lexf_others': '', 'lexf_syn_suggest': '','lexf_syn_others': '','thesf_suggest': '','thesf_others': ''}\n",
    "    options_d = options_d_template\n",
    "    frame = lookup(word,lexf)\n",
    "    if (frame.any):\n",
    "        thesf_suggest,lexf_others = yank_row(frame,1)\n",
    "        options_d[\"index\"] = indexer\n",
    "        indexer +=1\n",
    "        options_d[\"status\"] = 'lexf_suggest'\n",
    "        options_d[\"lexf_suggest\"] = lexf_suggest\n",
    "    else:\n",
    "        options_d = []\n",
    "    return options_d,indexer\n",
    "\n",
    "\n",
    "\n",
    "def get_thesf_guess(word,indexer):\n",
    "    options_d_template = {'index': '','status': '', 'knowl': '', 'lexf_suggest': '', 'lexf_others': '', 'lexf_syn_suggest': '','lexf_syn_others': '','thesf_suggest': '','thesf_others': ''}\n",
    "    options_d = options_d_template\n",
    "    frame = lookup(word,thesf)\n",
    "    if (frame.any):\n",
    "        thesf_suggest,thesf_others = yank_row(frame,1)\n",
    "        options_d[\"index\"] = indexer\n",
    "        indexer+=1\n",
    "        options_d[\"status\"] = 'thesf_suggest'\n",
    "        options_d[\"thesf_suggest\"] = thesf_suggest\n",
    "        \n",
    "    else:\n",
    "        options_d = []\n",
    "    return options_d,indexer,thesf_others\n",
    "\n",
    "def get_thesf_others(othersf,indexer):\n",
    "    options_d_template = {'index': '','status': '', 'knowl': '', 'lexf_suggest': '', 'lexf_others': '', 'lexf_syn_suggest': '','lexf_syn_others': '','thesf_suggest': '','thesf_others': ''\n",
    "    options_d = options_d_template\n",
    "                   \n",
    "    if (othersf.any):\n",
    "        \n",
    "                          \n",
    "        options_d[\"index\"] = indexer\n",
    "        indexer+=1\n",
    "        options_d[\"status\"] = 'thesf_suggest'\n",
    "        options_d[\"thesf_suggest\"] = thesf_suggest\n",
    "    else:\n",
    "        options_d = []\n",
    "    return options_d,indexer\n",
    "\n",
    "def create_disambig_report(word):\n",
    "    #set up\n",
    "    options =[]\n",
    "    options_d_template = {'index': '','status': '', 'knowl': '', 'lexf_suggest': '', 'lexf_others': '', 'lexf_syn_suggest': '','lexf_syn_others': '','thesf_suggest': '','thesf_others': ''}\n",
    "    options_d = options_d_template\n",
    "    indexer = 0\n",
    "    \n",
    "#     lexf_guess,indexer,othersf = get_lexf_guess(word,indexer)\n",
    "#     options.append(lexf_guess)\n",
    "    \n",
    "#     options,indexer = get_lexf_others(othersf,indexer)\n",
    "                          \n",
    "\n",
    "    thesf_guess,indexer,othersf = get_thesf_guess(word,indexer)\n",
    "    options.append(thesf_guess)\n",
    "    #     options,indexer = get_syn_of_lexf(word,indexer)\n",
    "#     options,indexer = get_thesf_others(othersf,indexer)\n",
    "    \n",
    "    \n",
    "        #append to array of dictionaries\n",
    "#         options_dic_list.append(options_dic)\n",
    "#         options_dic = options_dicT\n",
    "        \n",
    "#         input_options_dic[\"thesf_others\"] = thesf_others\n",
    "#         for ind in thesf.index:\n",
    "#             if(ind == 0):\n",
    "#                 pass\n",
    "    return input_options_dic\n",
    "\n",
    "create_disambig_report(\"hat\")\n"
   ]
  }
 ],
 "metadata": {
  "kernelspec": {
   "display_name": "Python 3",
   "language": "python",
   "name": "python3"
  },
  "language_info": {
   "codemirror_mode": {
    "name": "ipython",
    "version": 3
   },
   "file_extension": ".py",
   "mimetype": "text/x-python",
   "name": "python",
   "nbconvert_exporter": "python",
   "pygments_lexer": "ipython3",
   "version": "3.8.3"
  }
 },
 "nbformat": 4,
 "nbformat_minor": 4
}
